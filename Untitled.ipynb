{
 "cells": [
  {
   "cell_type": "code",
   "execution_count": null,
   "metadata": {},
   "outputs": [],
   "source": [
    "import os\n",
    "\n",
    "import dash\n",
    "import dash_core_components as dcc\n",
    "import dash_html_components as html\n",
    "import pandas as pd\n",
    "import plotly.graph_objs as go\n",
    "from dash.dependencies import Input, Output\n",
    "from app import app\n",
    "\n",
    "if 'DYNO' in os.environ:\n",
    "    app_name = os.environ['DASH_APP_NAME']\n",
    "else:\n",
    "    app_name = 'dash-candlestickplot'\n",
    "\n",
    "df = pd.read_csv(\"https://raw.githubusercontent.com/plotly/datasets/master/tesla-stock-price.csv\")\n",
    "df['year'] = pd.DatetimeIndex(df['date']).year\n",
    "\n",
    "layout = html.Div([\n",
    "    html.Div([html.H1(\"Tesla Stock Price\")], style={'textAlign': \"center\"}),\n",
    "    dcc.Graph(id=\"my-graph\"),\n",
    "    html.Div([dcc.RangeSlider(id=\"select-range\",marks={i: '{}'.format(i) for i in df.year.unique().tolist()},\n",
    "                              min=df.year.min(),max=df.year.max(),value=[2016, 2017])], style={\"padding-top\": 100,})\n",
    "], className=\"container\")\n",
    "\n",
    "@app.callback(\n",
    "    Output(\"my-graph\", 'figure'),\n",
    "    [Input(\"select-range\", 'value')])\n",
    "def update_figure(selected):\n",
    "    dff = df[(df[\"year\"] >= selected[0]) & (df[\"year\"] <= selected[1])]\n",
    "    trace = go.Candlestick(x=dff['date'],open=dff['open'],high=dff['high'],low=dff['low'],close=dff['close'],\n",
    "                           increasing={'line': {'color': '#00CC94'}},decreasing={'line': {'color': '#F50030'}})\n",
    "    return {'data': [trace],\n",
    "            'layout': go.Layout(title=f\"Stock Values for the period:{'-'.join(str(i) for i in selected)}\",\n",
    "                                xaxis={'rangeslider': {'visible': False},'autorange': \"reversed\",},\n",
    "                                yaxis={\"title\": f'Stock Price (USD)'})}"
   ]
  }
 ],
 "metadata": {
  "kernelspec": {
   "display_name": "Python 3",
   "language": "python",
   "name": "python3"
  },
  "language_info": {
   "codemirror_mode": {
    "name": "ipython",
    "version": 3
   },
   "file_extension": ".py",
   "mimetype": "text/x-python",
   "name": "python",
   "nbconvert_exporter": "python",
   "pygments_lexer": "ipython3",
   "version": "3.7.4"
  }
 },
 "nbformat": 4,
 "nbformat_minor": 4
}
